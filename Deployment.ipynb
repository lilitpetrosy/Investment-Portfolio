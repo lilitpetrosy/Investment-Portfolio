{
 "cells": [
  {
   "cell_type": "markdown",
   "metadata": {
    "hideCode": false,
    "hidePrompt": false
   },
   "source": [
    "# Project Part F: Deployment\n",
    "\n",
    "![](banner_project.jpg)"
   ]
  },
  {
   "cell_type": "code",
   "execution_count": 6,
   "metadata": {
    "hide_input": false
   },
   "outputs": [
    {
     "data": {
      "text/html": [
       "<p style=\"text-align:center; font-size:10px;\">\n",
       ".................................................... start of document ....................................................\n",
       "</p>"
      ]
     },
     "metadata": {},
     "output_type": "display_data"
    }
   ],
   "source": [
    "f = \"setup.R\"; for (i in 1:10) { if (file.exists(f)) break else f = paste0(\"../\", f) }; source(f)\n",
    "options(repr.matrix.max.rows=674)\n",
    "options(repr.matrix.max.cols=200)\n",
    "update_geom_defaults(\"point\", list(size=1))                                "
   ]
  },
  {
   "cell_type": "markdown",
   "metadata": {},
   "source": [
    "## Directions"
   ]
  },
  {
   "cell_type": "markdown",
   "metadata": {},
   "source": [
    "### Objective\n",
    "\n",
    "Recommend a portfolio of 12 company investments that maximizes 12-month return of an overall \\$1,000,000 investment."
   ]
  },
  {
   "cell_type": "markdown",
   "metadata": {},
   "source": [
    "### Approach\n",
    "\n",
    "Retrieve a transformed dataset about public company fundamentals and use it reproduce the construction of a selected model.\n",
    "\n",
    "Retrieve an investment opportunities dataset, comprising fundamentals for some set of public companies over some one-year period.  Transform the representation of the investment opportunities to match the representation expected by the model, leveraging previous analysis.\n",
    "\n",
    "Use the model to make predictions about the investment opportunities and accordingly recommend a portfolio of 12 company investments."
   ]
  },
  {
   "cell_type": "markdown",
   "metadata": {},
   "source": [
    "## Business Model\n",
    "\n",
    "\n",
    "The business model is ...\n",
    "\n",
    "$ \\begin{align} profit = \\left( \\sum_{i \\in portfolio} (1 + growth_i) \\times allocation_i \\right) - budget \\end{align} $\n",
    "\n",
    "<br>\n",
    "\n",
    "$ profit\\,rate = profit \\div budget $\n",
    "\n",
    "\n",
    "$ \\begin{align} budget = \\sum_{i \\in portfolio} allocation_i \\end{align} $\n",
    "\n",
    "<br>\n",
    "\n",
    "Business model parameters include ...\n",
    "\n",
    "* Budget = \\\\$1,000,000: total investment to allocate across the companies in the portfolio\n",
    "* Portfolio Size = 12: number of companies in the portfolio\n",
    "* Allocations = \\\\$1,000,000 $\\div$ 12 to each company: investments to allocate to specific companies in the portfolio \n",
    "\n",
    "Fill the portfolio with companies that have the highest predicted growths."
   ]
  },
  {
   "cell_type": "code",
   "execution_count": 9,
   "metadata": {},
   "outputs": [
    {
     "ename": "ERROR",
     "evalue": "Error in row_spec(x, 0, background = \"#FFFFFF\"): не могу найти функцию \"row_spec\"\n",
     "output_type": "error",
     "traceback": [
      "Error in row_spec(x, 0, background = \"#FFFFFF\"): не могу найти функцию \"row_spec\"\nTraceback:\n",
      "1. layout(fmt(budget), fmt(portfolio_size), fmt(allocation))",
      "2. fmt(budget)"
     ]
    }
   ],
   "source": [
    "# Set the business parameters.\n",
    "\n",
    "budget = 1000000\n",
    "portfolio_size = 12\n",
    "allocation = rep(budget/portfolio_size, portfolio_size)\n",
    "\n",
    "layout(fmt(budget), fmt(portfolio_size), fmt(allocation))"
   ]
  },
  {
   "cell_type": "markdown",
   "metadata": {},
   "source": [
    "## Data Retrieval\n",
    "\n",
    "_<< Discuss this data retrieval. >>_  \n",
    "  \n",
    "**ANSWER:**  \n",
    "  \n",
    "This data comes from Project Part B. It is the transformed dataset that we stored after selecting certain predictor variables--such as gvkey, tic, conm, and the PCs--and outcome variables, which include prccq, growth, and big_growth. This transformed data set, which has gone through rigorous data cleaning, filtering, and transformation, will be used in the following section for building regression models."
   ]
  },
  {
   "cell_type": "code",
   "execution_count": 8,
   "metadata": {},
   "outputs": [
    {
     "name": "stderr",
     "output_type": "stream",
     "text": [
      "Warning message in file(file, \"rt\"):\n",
      "“не могу открыть файл 'My Data.csv': No such file or directory”"
     ]
    },
    {
     "ename": "ERROR",
     "evalue": "Error in file(file, \"rt\"): не могу открыть соединение\n",
     "output_type": "error",
     "traceback": [
      "Error in file(file, \"rt\"): не могу открыть соединение\nTraceback:\n",
      "1. read.csv(\"My Data.csv\", header = TRUE)",
      "2. read.table(file = file, header = header, sep = sep, quote = quote, \n .     dec = dec, fill = fill, comment.char = comment.char, ...)",
      "3. file(file, \"rt\")"
     ]
    }
   ],
   "source": [
    "# Retrieve \"My Data.csv\".  This is the ORIGINAL model training data.\n",
    "data = read.csv(\"My Data.csv\", header=TRUE)\n",
    "\n",
    "# Present a few rows ...\n",
    "head(data)"
   ]
  },
  {
   "cell_type": "markdown",
   "metadata": {},
   "source": [
    "## Build Model\n",
    "\n",
    "_<< Discuss this model construction. >>_  \n",
    "  \n",
    "**ANSWER:**  \n",
    "  \n",
    "We are building a linear regression model based on the original model training data. This is the data we have been working with since Project B, which comes from \"My Data.csv\". We want to use PC1 and PC2 from this data set to predict growth, and we can do this since growth is a numeric variable, which is what we'd like to predict with a linear regression model."
   ]
  },
  {
   "cell_type": "code",
   "execution_count": 5,
   "metadata": {},
   "outputs": [
    {
     "data": {
      "text/plain": [
       "\n",
       "Call:\n",
       "lm(formula = growth ~ PC1 + PC2, data = data)\n",
       "\n",
       "Coefficients:\n",
       "(Intercept)          PC1          PC2  \n",
       " -0.1185887    0.0002455    0.0006294  \n"
      ]
     },
     "metadata": {},
     "output_type": "display_data"
    }
   ],
   "source": [
    "# Construct a linear regression model to predict growth given PC1 and PC2, based on the\n",
    "# ORIGINAL model training data.\n",
    "# Present a brief summary of the model parameters.\n",
    "model = lm(growth ~ PC1+PC2, data)\n",
    "model"
   ]
  },
  {
   "cell_type": "markdown",
   "metadata": {},
   "source": [
    "## Investment Opportunities\n",
    "\n",
    "_<< Discuss this handling of investment opportunties. >>_  \n",
    "  \n",
    "**ANSWER:**  \n",
    "  \n",
    "We read in new data from \"Investment Opportunities.csv\". We want to transform it so that it resembles the data we trained the model on so we can correctly and accurately make predictions. In section 5.2, we parition the investment opportunities data (named IOD from here) by calendar quarter, ensure that we are only keeping data from IOD that has a value for prccq, and remove the quarter column to remove unnecessary information. We also want to ensure that we remove any observations about companies from IOD that reported more than once per quarter. After this filtering by calendar quarter, we merge the data together so that a single observation has all the information about a company. Thus, we will only have distinct gvkeys for every row/observation. This makes it easier to retrieve any information we need about a single company, and also significantly reduces the number of observations we have (from the original 918 to 230).  \n",
    "  \n",
    "In section 5.4, we are transforming the data further to closely represent our original data from \"My Data.csv\". We first remove columns so the IOD has the same pre-filter columns from \"My Data.csv\". We then impute any missing values for each column of the IOD, and we impute it using the values we used to impute missing values of \"My Data.csv\" to maintain consistency, especially since the \"My Data.csv\" is the original data. We then use the principal component information from \"My Data.csv\" to compute the principal component values of IOD, and we want to use the information from \"My Data.csv\" because we want accurate predictions based on the training data. In the final stage of this section, we simply filter the columns to only have predictor variables, which are: gvkey, tic,\n",
    "conm, PC1, PC2."
   ]
  },
  {
   "cell_type": "markdown",
   "metadata": {},
   "source": [
    "### Retrieve Data"
   ]
  },
  {
   "cell_type": "code",
   "execution_count": 6,
   "metadata": {},
   "outputs": [
    {
     "data": {
      "text/html": [
       "<table>\n",
       "<thead><tr><th scope=col>observations</th><th scope=col>variables</th></tr></thead>\n",
       "<tbody>\n",
       "\t<tr><td>918</td><td>680</td></tr>\n",
       "</tbody>\n",
       "</table>\n"
      ],
      "text/latex": [
       "\\begin{tabular}{r|ll}\n",
       " observations & variables\\\\\n",
       "\\hline\n",
       "\t 918 & 680\\\\\n",
       "\\end{tabular}\n"
      ],
      "text/markdown": [
       "\n",
       "| observations | variables |\n",
       "|---|---|\n",
       "| 918 | 680 |\n",
       "\n"
      ],
      "text/plain": [
       "  observations variables\n",
       "1 918          680      "
      ]
     },
     "metadata": {},
     "output_type": "display_data"
    }
   ],
   "source": [
    "# Retrieve \"Investment Opportunities.csv\"\n",
    "new.data = read.csv(\"Investment Opportunities.csv\", header=TRUE)\n",
    "\n",
    "# Present the dataset size ...\n",
    "size(new.data)"
   ]
  },
  {
   "cell_type": "markdown",
   "metadata": {},
   "source": [
    "### Partition Data by Calendar Quarter \n",
    "\n",
    "To partition the dataset by calendar quarter in which information is reported, first add a synthetic variable to indicate such.  Then partition into four new datasets, one for each quarter, and drop the quarter variables. Additionally, filter the observations to include only those with non-missing `prccq`.  Then remove any observations about companies that reported more than once per quarter.  Then change all the variable names (except for the `gvkey`, `tic`, and `conm` variables) by suffixing them with quarter information - e.g., in the Quarter 1 dataset, `prccq` becomes `prccq.q1`, etc."
   ]
  },
  {
   "cell_type": "code",
   "execution_count": 7,
   "metadata": {},
   "outputs": [],
   "source": [
    "# Partition the dataset as described.\n",
    "new.data$quarter = quarter(mdy(new.data[,2]))\n",
    "\n",
    "data.current.q1 = new.data[(new.data$quarter==1) & !is.na(new.data$prccq), -ncol(new.data)]\n",
    "data.current.q2 = new.data[(new.data$quarter==2) & !is.na(new.data$prccq), -ncol(new.data)]\n",
    "data.current.q3 = new.data[(new.data$quarter==3) & !is.na(new.data$prccq), -ncol(new.data)]\n",
    "data.current.q4 = new.data[(new.data$quarter==4) & !is.na(new.data$prccq), -ncol(new.data)]\n",
    "\n",
    "data.current.q1 = data.current.q1[,colnames(data.current.q1)!=\"quarter\"]\n",
    "data.current.q2 = data.current.q2[,colnames(data.current.q2)!=\"quarter\"]\n",
    "data.current.q3 = data.current.q3[,colnames(data.current.q3)!=\"quarter\"]\n",
    "data.current.q4 = data.current.q4[,colnames(data.current.q4)!=\"quarter\"]\n",
    "\n",
    "data.current.q1 = data.current.q1[!duplicated(data.current.q1$gvkey),]\n",
    "data.current.q2 = data.current.q2[!duplicated(data.current.q2$gvkey),]\n",
    "data.current.q3 = data.current.q3[!duplicated(data.current.q3$gvkey),]\n",
    "data.current.q4 = data.current.q4[!duplicated(data.current.q4$gvkey),]\n",
    "\n",
    "colnames(data.current.q1)[-c(1, 10, 12)] = paste0(colnames(data.current.q1)[-c(1, 10, 12)], \".q1\")\n",
    "colnames(data.current.q2)[-c(1, 10, 12)] = paste0(colnames(data.current.q2)[-c(1, 10, 12)], \".q2\")\n",
    "colnames(data.current.q3)[-c(1, 10, 12)] = paste0(colnames(data.current.q3)[-c(1, 10, 12)], \".q3\")\n",
    "colnames(data.current.q4)[-c(1, 10, 12)] = paste0(colnames(data.current.q4)[-c(1, 10, 12)], \".q4\")"
   ]
  },
  {
   "cell_type": "code",
   "execution_count": 8,
   "metadata": {},
   "outputs": [
    {
     "data": {
      "text/html": [
       "<table><tr><td style=\"background-color:white; vertical-align:top; padding-right:40px;\"><table>\n",
       "<caption><center><font color=\"black\"><b>size(data.current.q1)</b></font></center></caption>\n",
       " <thead>\n",
       "  <tr>\n",
       "   <th style=\"text-align:right;background-color: #FFFFFF !important;\"> observations </th>\n",
       "   <th style=\"text-align:right;background-color: #FFFFFF !important;\"> variables </th>\n",
       "  </tr>\n",
       " </thead>\n",
       "<tbody>\n",
       "  <tr>\n",
       "   <td style=\"text-align:right;\"> 209 </td>\n",
       "   <td style=\"text-align:right;\"> 680 </td>\n",
       "  </tr>\n",
       "</tbody>\n",
       "</table></td><td style=\"background-color:white; vertical-align:top; padding-right:40px;\"><table>\n",
       "<caption><center><font color=\"black\"><b>size(data.current.q2)</b></font></center></caption>\n",
       " <thead>\n",
       "  <tr>\n",
       "   <th style=\"text-align:right;background-color: #FFFFFF !important;\"> observations </th>\n",
       "   <th style=\"text-align:right;background-color: #FFFFFF !important;\"> variables </th>\n",
       "  </tr>\n",
       " </thead>\n",
       "<tbody>\n",
       "  <tr>\n",
       "   <td style=\"text-align:right;\"> 221 </td>\n",
       "   <td style=\"text-align:right;\"> 680 </td>\n",
       "  </tr>\n",
       "</tbody>\n",
       "</table></td><td style=\"background-color:white; vertical-align:top; padding-right:40px;\"><table>\n",
       "<caption><center><font color=\"black\"><b>size(data.current.q3)</b></font></center></caption>\n",
       " <thead>\n",
       "  <tr>\n",
       "   <th style=\"text-align:right;background-color: #FFFFFF !important;\"> observations </th>\n",
       "   <th style=\"text-align:right;background-color: #FFFFFF !important;\"> variables </th>\n",
       "  </tr>\n",
       " </thead>\n",
       "<tbody>\n",
       "  <tr>\n",
       "   <td style=\"text-align:right;\"> 227 </td>\n",
       "   <td style=\"text-align:right;\"> 680 </td>\n",
       "  </tr>\n",
       "</tbody>\n",
       "</table></td><td style=\"background-color:white; vertical-align:top;\"><table>\n",
       "<caption><center><font color=\"black\"><b>size(data.current.q4)</b></font></center></caption>\n",
       " <thead>\n",
       "  <tr>\n",
       "   <th style=\"text-align:right;background-color: #FFFFFF !important;\"> observations </th>\n",
       "   <th style=\"text-align:right;background-color: #FFFFFF !important;\"> variables </th>\n",
       "  </tr>\n",
       " </thead>\n",
       "<tbody>\n",
       "  <tr>\n",
       "   <td style=\"text-align:right;\"> 230 </td>\n",
       "   <td style=\"text-align:right;\"> 680 </td>\n",
       "  </tr>\n",
       "</tbody>\n",
       "</table></td></tr></table>"
      ]
     },
     "metadata": {},
     "output_type": "display_data"
    }
   ],
   "source": [
    "# Present the sizes of the data partitions\n",
    "layout(fmt(size(data.current.q1)),\n",
    "       fmt(size(data.current.q2)),\n",
    "       fmt(size(data.current.q3)),\n",
    "       fmt(size(data.current.q4)))"
   ]
  },
  {
   "cell_type": "markdown",
   "metadata": {},
   "source": [
    "### Consolidate Data by Company\n",
    "\n",
    "Consolidate the four quarter datasets into one dataset, with one observation per company that includes variables for all four quarters.  Remove any observations with missing `prccq.q4` values."
   ]
  },
  {
   "cell_type": "code",
   "execution_count": 9,
   "metadata": {},
   "outputs": [
    {
     "data": {
      "text/html": [
       "<table>\n",
       "<thead><tr><th scope=col>observations</th><th scope=col>variables</th></tr></thead>\n",
       "<tbody>\n",
       "\t<tr><td>230 </td><td>2711</td></tr>\n",
       "</tbody>\n",
       "</table>\n"
      ],
      "text/latex": [
       "\\begin{tabular}{r|ll}\n",
       " observations & variables\\\\\n",
       "\\hline\n",
       "\t 230  & 2711\\\\\n",
       "\\end{tabular}\n"
      ],
      "text/markdown": [
       "\n",
       "| observations | variables |\n",
       "|---|---|\n",
       "| 230  | 2711 |\n",
       "\n"
      ],
      "text/plain": [
       "  observations variables\n",
       "1 230          2711     "
      ]
     },
     "metadata": {},
     "output_type": "display_data"
    }
   ],
   "source": [
    "# Consolidate the partitions as described.\n",
    "# How many observations and variables in the resulting dataset? \n",
    "m12 = merge(data.current.q1, data.current.q2, by=c(\"gvkey\", \"tic\", \"conm\"), all=TRUE)\n",
    "m34 = merge(data.current.q3, data.current.q4, by=c(\"gvkey\", \"tic\", \"conm\"), all=TRUE)\n",
    "data.current = merge(m12, m34, by=c(\"gvkey\", \"tic\", \"conm\"), all=TRUE, sort=TRUE)\n",
    "\n",
    "data.current = data.current[!is.na(data.current$prccq.q4),]\n",
    "\n",
    "size(data.current)"
   ]
  },
  {
   "cell_type": "markdown",
   "metadata": {},
   "source": [
    "### Transform Representation of Data"
   ]
  },
  {
   "cell_type": "code",
   "execution_count": 10,
   "metadata": {},
   "outputs": [
    {
     "data": {
      "text/html": [
       "<table>\n",
       "<thead><tr><th scope=col>observations</th><th scope=col>variables</th></tr></thead>\n",
       "<tbody>\n",
       "\t<tr><td>230</td><td>923</td></tr>\n",
       "</tbody>\n",
       "</table>\n"
      ],
      "text/latex": [
       "\\begin{tabular}{r|ll}\n",
       " observations & variables\\\\\n",
       "\\hline\n",
       "\t 230 & 923\\\\\n",
       "\\end{tabular}\n"
      ],
      "text/markdown": [
       "\n",
       "| observations | variables |\n",
       "|---|---|\n",
       "| 230 | 923 |\n",
       "\n"
      ],
      "text/plain": [
       "  observations variables\n",
       "1 230          923      "
      ]
     },
     "metadata": {},
     "output_type": "display_data"
    }
   ],
   "source": [
    "# Filter the data to include only those variables with at least 80% non-missing values\n",
    "# in the ORIGINAL model training data.\n",
    "# How many observations and variables in the resulting dataset? \n",
    "#\n",
    "# You can use the readRDS() function. \n",
    "cols = readRDS(\"My Pre-Filter.rds\")\n",
    "\n",
    "new.data = data.current[,cols]\n",
    "size(new.data)"
   ]
  },
  {
   "cell_type": "code",
   "execution_count": 11,
   "metadata": {},
   "outputs": [
    {
     "data": {
      "text/html": [
       "<table>\n",
       "<thead><tr><th scope=col>observations</th><th scope=col>variables</th></tr></thead>\n",
       "<tbody>\n",
       "\t<tr><td>230</td><td>923</td></tr>\n",
       "</tbody>\n",
       "</table>\n"
      ],
      "text/latex": [
       "\\begin{tabular}{r|ll}\n",
       " observations & variables\\\\\n",
       "\\hline\n",
       "\t 230 & 923\\\\\n",
       "\\end{tabular}\n"
      ],
      "text/markdown": [
       "\n",
       "| observations | variables |\n",
       "|---|---|\n",
       "| 230 | 923 |\n",
       "\n"
      ],
      "text/plain": [
       "  observations variables\n",
       "1 230          923      "
      ]
     },
     "metadata": {},
     "output_type": "display_data"
    }
   ],
   "source": [
    "# Impute the data using the same imputation values as computed for the ORIGINAL model\n",
    "# training data. \n",
    "# How many observations and variables in the resulting dataset? \n",
    "#\n",
    "# You can use the readRDS() and put_impute() functions.\n",
    "impute.vals = readRDS(\"My Imputation.rds\")\n",
    "data.impute = put_impute(new.data, impute.vals)\n",
    "size(data.impute)"
   ]
  },
  {
   "cell_type": "code",
   "execution_count": 12,
   "metadata": {},
   "outputs": [
    {
     "data": {
      "text/html": [
       "<table>\n",
       "<thead><tr><th scope=col>observations</th><th scope=col>variables</th></tr></thead>\n",
       "<tbody>\n",
       "\t<tr><td>230</td><td>737</td></tr>\n",
       "</tbody>\n",
       "</table>\n"
      ],
      "text/latex": [
       "\\begin{tabular}{r|ll}\n",
       " observations & variables\\\\\n",
       "\\hline\n",
       "\t 230 & 737\\\\\n",
       "\\end{tabular}\n"
      ],
      "text/markdown": [
       "\n",
       "| observations | variables |\n",
       "|---|---|\n",
       "| 230 | 737 |\n",
       "\n"
      ],
      "text/plain": [
       "  observations variables\n",
       "1 230          737      "
      ]
     },
     "metadata": {},
     "output_type": "display_data"
    }
   ],
   "source": [
    "# Compute principal components using the centroids and weight matrix from the analysis\n",
    "# of the ORIGINAL model training data.  Apply to only the (numeric and integer) variables\n",
    "# used in the analysis of the ORIGINAL model training data. \n",
    "# How many observations and variables in the resulting dataset? \n",
    "#\n",
    "# You can use the readRDS() and predict() functions.\n",
    "# You can use rownames(pc$rotation) to get the (numeric and integer) variables. \n",
    "pc = readRDS(\"My PC.rds\")\n",
    "data.pc = predict(pc, data.impute[,rownames(pc$rotation)])\n",
    "size(data.pc)"
   ]
  },
  {
   "cell_type": "code",
   "execution_count": 13,
   "metadata": {},
   "outputs": [
    {
     "data": {
      "text/html": [
       "<table>\n",
       "<thead><tr><th scope=col>observations</th><th scope=col>variables</th></tr></thead>\n",
       "<tbody>\n",
       "\t<tr><td>230</td><td>5  </td></tr>\n",
       "</tbody>\n",
       "</table>\n"
      ],
      "text/latex": [
       "\\begin{tabular}{r|ll}\n",
       " observations & variables\\\\\n",
       "\\hline\n",
       "\t 230 & 5  \\\\\n",
       "\\end{tabular}\n"
      ],
      "text/markdown": [
       "\n",
       "| observations | variables |\n",
       "|---|---|\n",
       "| 230 | 5   |\n",
       "\n"
      ],
      "text/plain": [
       "  observations variables\n",
       "1 230          5        "
      ]
     },
     "metadata": {},
     "output_type": "display_data"
    },
    {
     "data": {
      "text/html": [
       "<table>\n",
       "<thead><tr><th scope=col>gvkey</th><th scope=col>tic</th><th scope=col>conm</th><th scope=col>PC1</th><th scope=col>PC2</th></tr></thead>\n",
       "<tbody>\n",
       "\t<tr><td>1004                    </td><td>AIR                     </td><td>AAR CORP                </td><td> 3.472287               </td><td>-0.08425766             </td></tr>\n",
       "\t<tr><td>1410                    </td><td>ABM                     </td><td>ABM INDUSTRIES INC      </td><td> 2.796849               </td><td>-0.10000479             </td></tr>\n",
       "\t<tr><td>1562                    </td><td>AMSWA                   </td><td>AMERICAN SOFTWARE  -CL A</td><td> 3.986999               </td><td>-0.65366925             </td></tr>\n",
       "\t<tr><td>1618                    </td><td>AXR                     </td><td>AMREP CORP              </td><td> 3.642196               </td><td>-0.56307768             </td></tr>\n",
       "\t<tr><td>1632                    </td><td>ADI                     </td><td>ANALOG DEVICES          </td><td>-4.313079               </td><td> 0.96351130             </td></tr>\n",
       "\t<tr><td>1686                    </td><td>APOG                    </td><td>APOGEE ENTERPRISES INC  </td><td> 3.491347               </td><td> 0.18518797             </td></tr>\n",
       "</tbody>\n",
       "</table>\n"
      ],
      "text/latex": [
       "\\begin{tabular}{r|lllll}\n",
       " gvkey & tic & conm & PC1 & PC2\\\\\n",
       "\\hline\n",
       "\t 1004                     & AIR                      & AAR CORP                 &  3.472287                & -0.08425766             \\\\\n",
       "\t 1410                     & ABM                      & ABM INDUSTRIES INC       &  2.796849                & -0.10000479             \\\\\n",
       "\t 1562                     & AMSWA                    & AMERICAN SOFTWARE  -CL A &  3.986999                & -0.65366925             \\\\\n",
       "\t 1618                     & AXR                      & AMREP CORP               &  3.642196                & -0.56307768             \\\\\n",
       "\t 1632                     & ADI                      & ANALOG DEVICES           & -4.313079                &  0.96351130             \\\\\n",
       "\t 1686                     & APOG                     & APOGEE ENTERPRISES INC   &  3.491347                &  0.18518797             \\\\\n",
       "\\end{tabular}\n"
      ],
      "text/markdown": [
       "\n",
       "| gvkey | tic | conm | PC1 | PC2 |\n",
       "|---|---|---|---|---|\n",
       "| 1004                     | AIR                      | AAR CORP                 |  3.472287                | -0.08425766              |\n",
       "| 1410                     | ABM                      | ABM INDUSTRIES INC       |  2.796849                | -0.10000479              |\n",
       "| 1562                     | AMSWA                    | AMERICAN SOFTWARE  -CL A |  3.986999                | -0.65366925              |\n",
       "| 1618                     | AXR                      | AMREP CORP               |  3.642196                | -0.56307768              |\n",
       "| 1632                     | ADI                      | ANALOG DEVICES           | -4.313079                |  0.96351130              |\n",
       "| 1686                     | APOG                     | APOGEE ENTERPRISES INC   |  3.491347                |  0.18518797              |\n",
       "\n"
      ],
      "text/plain": [
       "  gvkey tic   conm                     PC1       PC2        \n",
       "1 1004  AIR   AAR CORP                  3.472287 -0.08425766\n",
       "2 1410  ABM   ABM INDUSTRIES INC        2.796849 -0.10000479\n",
       "3 1562  AMSWA AMERICAN SOFTWARE  -CL A  3.986999 -0.65366925\n",
       "4 1618  AXR   AMREP CORP                3.642196 -0.56307768\n",
       "5 1632  ADI   ANALOG DEVICES           -4.313079  0.96351130\n",
       "6 1686  APOG  APOGEE ENTERPRISES INC    3.491347  0.18518797"
      ]
     },
     "metadata": {},
     "output_type": "display_data"
    }
   ],
   "source": [
    "# Combine and filter datasets as necessary to produce a new datset that includes all investment\n",
    "# opportunities, but includes only predictor variables stored by previous analysis. \n",
    "# How many observations and variables?\n",
    "# Present the few few observations of the resulting dataset.\n",
    "#\n",
    "# You can use the readRDS() function.\n",
    "predictor.vars = readRDS(\"My Post-Filter.rds\")\n",
    "data.pc = data.pc[, c(\"PC1\", \"PC2\")]\n",
    "data.final = cbind(data.impute, data.pc)\n",
    "data.final = data.final[, predictor.vars]\n",
    "\n",
    "size(data.final)\n",
    "head(data.final)"
   ]
  },
  {
   "cell_type": "markdown",
   "metadata": {},
   "source": [
    "## Apply Model\n",
    "\n",
    "_<< Discuss this application of the model. >>_  \n",
    "  \n",
    "**ANSWER:**  \n",
    "  \n",
    "We predict growth values for IOD using the PC1 and PC2 values computed above because the model is trained to only use PC1 and PC2 as predictor variables of growth. I then proceed to order the data in descending order based on the predicted values of growth. This is done so I can quickly select the top 12 portfolios for recommendation, since we would like to recommend portfolios with the highest growth. Upon examination, I saw that none of our predictions are positive; thus, no company will see positive growth based on our predictions. However, the portfolio companies I recommend does not necessarily result in positive growth or profit. We select to only present the gvkey, tic, conm, and allocation columns to remove unnecessary information for our presentation of the portfolios."
   ]
  },
  {
   "cell_type": "markdown",
   "metadata": {},
   "source": [
    "### Predict & Make Portfolio Recommendation"
   ]
  },
  {
   "cell_type": "code",
   "execution_count": 14,
   "metadata": {},
   "outputs": [
    {
     "data": {
      "text/html": [
       "<table>\n",
       "<caption><center><font color=\"black\"><b>portfolio</b></font></center></caption>\n",
       " <thead>\n",
       "  <tr>\n",
       "   <th style=\"text-align:right;background-color: #FFFFFF !important;\"> gvkey </th>\n",
       "   <th style=\"text-align:right;background-color: #FFFFFF !important;\"> tic </th>\n",
       "   <th style=\"text-align:right;background-color: #FFFFFF !important;\"> conm </th>\n",
       "   <th style=\"text-align:right;background-color: #FFFFFF !important;\"> allocation </th>\n",
       "  </tr>\n",
       " </thead>\n",
       "<tbody>\n",
       "  <tr>\n",
       "   <td style=\"text-align:right;\"> 23809 </td>\n",
       "   <td style=\"text-align:right;\"> AZO </td>\n",
       "   <td style=\"text-align:right;\"> AUTOZONE INC </td>\n",
       "   <td style=\"text-align:right;\"> 83333.33 </td>\n",
       "  </tr>\n",
       "  <tr>\n",
       "   <td style=\"text-align:right;\"> 29692 </td>\n",
       "   <td style=\"text-align:right;\"> WEBC </td>\n",
       "   <td style=\"text-align:right;\"> WEBCO INDUSTRIES INC </td>\n",
       "   <td style=\"text-align:right;\"> 83333.33 </td>\n",
       "  </tr>\n",
       "  <tr>\n",
       "   <td style=\"text-align:right;\"> 3570 </td>\n",
       "   <td style=\"text-align:right;\"> CBRL </td>\n",
       "   <td style=\"text-align:right;\"> CRACKER BARREL OLD CTRY STOR </td>\n",
       "   <td style=\"text-align:right;\"> 83333.33 </td>\n",
       "  </tr>\n",
       "  <tr>\n",
       "   <td style=\"text-align:right;\"> 63172 </td>\n",
       "   <td style=\"text-align:right;\"> FDS </td>\n",
       "   <td style=\"text-align:right;\"> FACTSET RESEARCH SYSTEMS INC </td>\n",
       "   <td style=\"text-align:right;\"> 83333.33 </td>\n",
       "  </tr>\n",
       "  <tr>\n",
       "   <td style=\"text-align:right;\"> 64344 </td>\n",
       "   <td style=\"text-align:right;\"> MTN </td>\n",
       "   <td style=\"text-align:right;\"> VAIL RESORTS INC </td>\n",
       "   <td style=\"text-align:right;\"> 83333.33 </td>\n",
       "  </tr>\n",
       "  <tr>\n",
       "   <td style=\"text-align:right;\"> 178704 </td>\n",
       "   <td style=\"text-align:right;\"> ULTA </td>\n",
       "   <td style=\"text-align:right;\"> ULTA BEAUTY INC </td>\n",
       "   <td style=\"text-align:right;\"> 83333.33 </td>\n",
       "  </tr>\n",
       "  <tr>\n",
       "   <td style=\"text-align:right;\"> 65430 </td>\n",
       "   <td style=\"text-align:right;\"> PLCE </td>\n",
       "   <td style=\"text-align:right;\"> CHILDRENS PLACE INC </td>\n",
       "   <td style=\"text-align:right;\"> 83333.33 </td>\n",
       "  </tr>\n",
       "  <tr>\n",
       "   <td style=\"text-align:right;\"> 10549 </td>\n",
       "   <td style=\"text-align:right;\"> THO </td>\n",
       "   <td style=\"text-align:right;\"> THOR INDUSTRIES INC </td>\n",
       "   <td style=\"text-align:right;\"> 83333.33 </td>\n",
       "  </tr>\n",
       "  <tr>\n",
       "   <td style=\"text-align:right;\"> 3504 </td>\n",
       "   <td style=\"text-align:right;\"> COO </td>\n",
       "   <td style=\"text-align:right;\"> COOPER COS INC (THE) </td>\n",
       "   <td style=\"text-align:right;\"> 83333.33 </td>\n",
       "  </tr>\n",
       "  <tr>\n",
       "   <td style=\"text-align:right;\"> 7921 </td>\n",
       "   <td style=\"text-align:right;\"> NDSN </td>\n",
       "   <td style=\"text-align:right;\"> NORDSON CORP </td>\n",
       "   <td style=\"text-align:right;\"> 83333.33 </td>\n",
       "  </tr>\n",
       "  <tr>\n",
       "   <td style=\"text-align:right;\"> 1864 </td>\n",
       "   <td style=\"text-align:right;\"> REX </td>\n",
       "   <td style=\"text-align:right;\"> REX AMERICAN RESOURCES CORP </td>\n",
       "   <td style=\"text-align:right;\"> 83333.33 </td>\n",
       "  </tr>\n",
       "  <tr>\n",
       "   <td style=\"text-align:right;\"> 2807 </td>\n",
       "   <td style=\"text-align:right;\"> CASY </td>\n",
       "   <td style=\"text-align:right;\"> CASEYS GENERAL STORES INC </td>\n",
       "   <td style=\"text-align:right;\"> 83333.33 </td>\n",
       "  </tr>\n",
       "</tbody>\n",
       "</table>"
      ]
     },
     "metadata": {},
     "output_type": "display_data"
    }
   ],
   "source": [
    "# Use the model to predict growths of each investment opportunity.\n",
    "# Recommend a portfolio of allocations to 12 investment opportunities: gvkey, tic, conm, allocation\n",
    "data.final$predictions = predict(model, data.final)\n",
    "portfolio = data.final[order(-data.final$predictions),]\n",
    "portfolio = portfolio[1:portfolio_size,]\n",
    "portfolio = cbind(portfolio[, c(\"gvkey\", \"tic\", \"conm\")], allocation)\n",
    "\n",
    "fmt(portfolio, \"portfolio\")"
   ]
  },
  {
   "cell_type": "markdown",
   "metadata": {},
   "source": [
    "### Store Portfolio Recommendation"
   ]
  },
  {
   "cell_type": "code",
   "execution_count": 15,
   "metadata": {},
   "outputs": [],
   "source": [
    "# Store portfolio recommendation\n",
    "\n",
    "write.csv(portfolio, paste0(analyst, \".csv\"), row.names=FALSE)"
   ]
  }
 ],
 "metadata": {
  "hide_code_all_hidden": false,
  "hide_input": false,
  "kernelspec": {
   "display_name": "Python 3",
   "language": "python",
   "name": "python3"
  },
  "language_info": {
   "codemirror_mode": {
    "name": "ipython",
    "version": 3
   },
   "file_extension": ".py",
   "mimetype": "text/x-python",
   "name": "python",
   "nbconvert_exporter": "python",
   "pygments_lexer": "ipython3",
   "version": "3.8.5"
  },
  "toc": {
   "base_numbering": 1,
   "nav_menu": {},
   "number_sections": true,
   "sideBar": true,
   "skip_h1_title": true,
   "title_cell": "Table of Contents",
   "title_sidebar": "Contents",
   "toc_cell": false,
   "toc_position": {
    "height": "calc(100% - 180px)",
    "left": "10px",
    "top": "150px",
    "width": "256.396px"
   },
   "toc_section_display": true,
   "toc_window_display": true
  }
 },
 "nbformat": 4,
 "nbformat_minor": 2
}
