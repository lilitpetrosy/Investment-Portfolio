{
 "cells": [
  {
   "cell_type": "markdown",
   "metadata": {
    "hideCode": false,
    "hidePrompt": false
   },
   "source": [
    "# Classification\n",
    "\n",
    "![](banner_project.jpg)"
   ]
  },
  {
   "cell_type": "code",
   "execution_count": 1,
   "metadata": {},
   "outputs": [],
   "source": [
    "analyst = \"Lilit Petrosyan\""
   ]
  },
  {
   "cell_type": "code",
   "execution_count": 2,
   "metadata": {
    "hide_input": false
   },
   "outputs": [
    {
     "data": {
      "text/html": [
       "<p style=\"text-align:center; font-size:10px;\">\n",
       ".................................................... start of document ....................................................\n",
       "</p>"
      ]
     },
     "metadata": {},
     "output_type": "display_data"
    }
   ],
   "source": [
    "f = \"setup.R\"; for (i in 1:10) { if (file.exists(f)) break else f = paste0(\"../\", f) }; source(f)\n",
    "options(repr.matrix.max.rows=674)\n",
    "options(repr.matrix.max.cols=200)\n",
    "update_geom_defaults(\"point\", list(size=1))                                "
   ]
  },
  {
   "cell_type": "markdown",
   "metadata": {},
   "source": [
    "### Objective\n",
    "\n",
    "I will construct and evaluate a classifier trained on a transformed dataset about public company fundamentals.  Later, I will use the classifier along with additional analysis to recommend a portfolio of 12 company investments that maximizes 12-month return of an overall \\$1,000,000 investment."
   ]
  },
  {
   "cell_type": "markdown",
   "metadata": {},
   "source": [
    "### Approach\n",
    "\n",
    "Retrieve the transformed dataset.\n",
    "\n",
    "Construct a model to predict whether stock price will grow more than 30% over 12 months, given 12 months of past company fundamentals data, and using a machine learning model construction method and transformed data.\n",
    "\n",
    "Evaluate the model's business performance based on a business model and business parameters."
   ]
  },
  {
   "cell_type": "markdown",
   "metadata": {},
   "source": [
    "## Business Model\n",
    "\n",
    "The business model is ...\n",
    "\n",
    "$ \\begin{align} profit = \\left( \\sum_{i \\in portfolio} (1 + growth_i) \\times allocation_i \\right) - budget \\end{align} $\n",
    "\n",
    "<br>\n",
    "\n",
    "$ profit\\,rate = profit \\div budget $\n",
    "\n",
    "\n",
    "$ \\begin{align} budget = \\sum_{i \\in portfolio} allocation_i \\end{align} $\n",
    "\n",
    "<br>\n",
    "\n",
    "Business model parameters include ...\n",
    "\n",
    "* Budget = \\\\$1,000,000: total investment to allocate across the companies in the portfolio\n",
    "* Portfolio Size = 12: number of companies in the portfolio\n",
    "* Allocations = \\\\$1,000,000 $\\div$ 12 to each company: investments to allocate to specific companies in the portfolio \n",
    "\n",
    "task: Fill the portfolio with companies with the lowest gvkey values from among those you predict to grow above 30%.  If you predict fewer than the portfolio size to grow above 30%, then fill the rest of the portfolio with the remaining companies with lowest gvkey values."
   ]
  },
  {
   "cell_type": "code",
   "execution_count": 3,
   "metadata": {},
   "outputs": [
    {
     "data": {
      "text/html": [
       "<table><tr><td style=\"background-color:white; vertical-align:top; padding-right:40px;\"><table>\n",
       " <thead>\n",
       "  <tr>\n",
       "   <th style=\"text-align:right;background-color: #FFFFFF !important;\"> budget </th>\n",
       "  </tr>\n",
       " </thead>\n",
       "<tbody>\n",
       "  <tr>\n",
       "   <td style=\"text-align:right;\"> 1000000 </td>\n",
       "  </tr>\n",
       "</tbody>\n",
       "</table></td><td style=\"background-color:white; vertical-align:top; padding-right:40px;\"><table>\n",
       " <thead>\n",
       "  <tr>\n",
       "   <th style=\"text-align:right;background-color: #FFFFFF !important;\"> portfolio_size </th>\n",
       "  </tr>\n",
       " </thead>\n",
       "<tbody>\n",
       "  <tr>\n",
       "   <td style=\"text-align:right;\"> 12 </td>\n",
       "  </tr>\n",
       "</tbody>\n",
       "</table></td><td style=\"background-color:white; vertical-align:top;\"><table>\n",
       " <thead>\n",
       "  <tr>\n",
       "   <th style=\"text-align:right;background-color: #FFFFFF !important;\"> allocation </th>\n",
       "  </tr>\n",
       " </thead>\n",
       "<tbody>\n",
       "  <tr>\n",
       "   <td style=\"text-align:right;\"> 83333.33 </td>\n",
       "  </tr>\n",
       "  <tr>\n",
       "   <td style=\"text-align:right;\"> 83333.33 </td>\n",
       "  </tr>\n",
       "  <tr>\n",
       "   <td style=\"text-align:right;\"> 83333.33 </td>\n",
       "  </tr>\n",
       "  <tr>\n",
       "   <td style=\"text-align:right;\"> 83333.33 </td>\n",
       "  </tr>\n",
       "  <tr>\n",
       "   <td style=\"text-align:right;\"> 83333.33 </td>\n",
       "  </tr>\n",
       "  <tr>\n",
       "   <td style=\"text-align:right;\"> 83333.33 </td>\n",
       "  </tr>\n",
       "  <tr>\n",
       "   <td style=\"text-align:right;\"> 83333.33 </td>\n",
       "  </tr>\n",
       "  <tr>\n",
       "   <td style=\"text-align:right;\"> 83333.33 </td>\n",
       "  </tr>\n",
       "  <tr>\n",
       "   <td style=\"text-align:right;\"> 83333.33 </td>\n",
       "  </tr>\n",
       "  <tr>\n",
       "   <td style=\"text-align:right;\"> 83333.33 </td>\n",
       "  </tr>\n",
       "  <tr>\n",
       "   <td style=\"text-align:right;\"> 83333.33 </td>\n",
       "  </tr>\n",
       "  <tr>\n",
       "   <td style=\"text-align:right;\"> 83333.33 </td>\n",
       "  </tr>\n",
       "</tbody>\n",
       "</table></td></tr></table>"
      ]
     },
     "metadata": {},
     "output_type": "display_data"
    }
   ],
   "source": [
    "# Set the business parameters.\n",
    "\n",
    "budget = 1000000\n",
    "portfolio_size = 12\n",
    "allocation = rep(budget/portfolio_size, portfolio_size)\n",
    "\n",
    "layout(fmt(budget), fmt(portfolio_size), fmt(allocation))"
   ]
  },
  {
   "cell_type": "markdown",
   "metadata": {},
   "source": [
    "## Data\n",
    "\n",
    "In this section, we retrieve the data that we have previously stored in our folder, from the Project B notebook. This is the data that includes gvkey(the global company key) sorted from lowest to highest, the company names, values of two of the principal analysis, the stock price, growth rate, and a character variable that indicates whether a company had over 30% growth over 12 months."
   ]
  },
  {
   "cell_type": "code",
   "execution_count": 12,
   "metadata": {},
   "outputs": [
    {
     "data": {
      "text/html": [
       "<table>\n",
       "<thead><tr><th scope=col>gvkey</th><th scope=col>tic</th><th scope=col>conm</th><th scope=col>PC1</th><th scope=col>PC2</th><th scope=col>prccq</th><th scope=col>growth</th><th scope=col>big_growth</th></tr></thead>\n",
       "<tbody>\n",
       "\t<tr><td>1004                        </td><td>AIR                         </td><td>AAR CORP                    </td><td>  3.4371231                 </td><td>-0.2260719                  </td><td>43.69                       </td><td> 0.0507455507               </td><td>NO                          </td></tr>\n",
       "\t<tr><td>1045                        </td><td>AAL                         </td><td>AMERICAN AIRLINES GROUP INC </td><td>-12.0332067                 </td><td> 0.8045109                  </td><td>32.11                       </td><td>-0.3828560446               </td><td>NO                          </td></tr>\n",
       "\t<tr><td>1050                        </td><td>CECE                        </td><td>CECO ENVIRONMENTAL CORP     </td><td>  3.9532234                 </td><td>-0.7553386                  </td><td> 6.75                       </td><td> 0.3157894737               </td><td>YES                         </td></tr>\n",
       "\t<tr><td>1062                        </td><td>ASA                         </td><td>ASA GOLD AND PRECIOUS METALS</td><td>  3.6561434                 </td><td>-0.7981915                  </td><td> 8.66                       </td><td>-0.2164739518               </td><td>NO                          </td></tr>\n",
       "\t<tr><td>1072                        </td><td>AVX                         </td><td>AVX CORP                    </td><td>  2.9282228                 </td><td>-0.7104200                  </td><td>15.25                       </td><td>-0.1184971098               </td><td>NO                          </td></tr>\n",
       "\t<tr><td>1075                        </td><td>PNW                         </td><td>PINNACLE WEST CAPITAL CORP  </td><td>  0.3488491                 </td><td> 1.1389605                  </td><td>85.20                       </td><td> 0.0002347969               </td><td>NO                          </td></tr>\n",
       "</tbody>\n",
       "</table>\n"
      ],
      "text/latex": [
       "\\begin{tabular}{r|llllllll}\n",
       " gvkey & tic & conm & PC1 & PC2 & prccq & growth & big\\_growth\\\\\n",
       "\\hline\n",
       "\t 1004                         & AIR                          & AAR CORP                     &   3.4371231                  & -0.2260719                   & 43.69                        &  0.0507455507                & NO                          \\\\\n",
       "\t 1045                         & AAL                          & AMERICAN AIRLINES GROUP INC  & -12.0332067                  &  0.8045109                   & 32.11                        & -0.3828560446                & NO                          \\\\\n",
       "\t 1050                         & CECE                         & CECO ENVIRONMENTAL CORP      &   3.9532234                  & -0.7553386                   &  6.75                        &  0.3157894737                & YES                         \\\\\n",
       "\t 1062                         & ASA                          & ASA GOLD AND PRECIOUS METALS &   3.6561434                  & -0.7981915                   &  8.66                        & -0.2164739518                & NO                          \\\\\n",
       "\t 1072                         & AVX                          & AVX CORP                     &   2.9282228                  & -0.7104200                   & 15.25                        & -0.1184971098                & NO                          \\\\\n",
       "\t 1075                         & PNW                          & PINNACLE WEST CAPITAL CORP   &   0.3488491                  &  1.1389605                   & 85.20                        &  0.0002347969                & NO                          \\\\\n",
       "\\end{tabular}\n"
      ],
      "text/markdown": [
       "\n",
       "| gvkey | tic | conm | PC1 | PC2 | prccq | growth | big_growth |\n",
       "|---|---|---|---|---|---|---|---|\n",
       "| 1004                         | AIR                          | AAR CORP                     |   3.4371231                  | -0.2260719                   | 43.69                        |  0.0507455507                | NO                           |\n",
       "| 1045                         | AAL                          | AMERICAN AIRLINES GROUP INC  | -12.0332067                  |  0.8045109                   | 32.11                        | -0.3828560446                | NO                           |\n",
       "| 1050                         | CECE                         | CECO ENVIRONMENTAL CORP      |   3.9532234                  | -0.7553386                   |  6.75                        |  0.3157894737                | YES                          |\n",
       "| 1062                         | ASA                          | ASA GOLD AND PRECIOUS METALS |   3.6561434                  | -0.7981915                   |  8.66                        | -0.2164739518                | NO                           |\n",
       "| 1072                         | AVX                          | AVX CORP                     |   2.9282228                  | -0.7104200                   | 15.25                        | -0.1184971098                | NO                           |\n",
       "| 1075                         | PNW                          | PINNACLE WEST CAPITAL CORP   |   0.3488491                  |  1.1389605                   | 85.20                        |  0.0002347969                | NO                           |\n",
       "\n"
      ],
      "text/plain": [
       "  gvkey tic  conm                         PC1         PC2        prccq\n",
       "1 1004  AIR  AAR CORP                       3.4371231 -0.2260719 43.69\n",
       "2 1045  AAL  AMERICAN AIRLINES GROUP INC  -12.0332067  0.8045109 32.11\n",
       "3 1050  CECE CECO ENVIRONMENTAL CORP        3.9532234 -0.7553386  6.75\n",
       "4 1062  ASA  ASA GOLD AND PRECIOUS METALS   3.6561434 -0.7981915  8.66\n",
       "5 1072  AVX  AVX CORP                       2.9282228 -0.7104200 15.25\n",
       "6 1075  PNW  PINNACLE WEST CAPITAL CORP     0.3488491  1.1389605 85.20\n",
       "  growth        big_growth\n",
       "1  0.0507455507 NO        \n",
       "2 -0.3828560446 NO        \n",
       "3  0.3157894737 YES       \n",
       "4 -0.2164739518 NO        \n",
       "5 -0.1184971098 NO        \n",
       "6  0.0002347969 NO        "
      ]
     },
     "metadata": {},
     "output_type": "display_data"
    }
   ],
   "source": [
    "# Retrieve \"My Data.csv\"\n",
    "data = read.csv(\"My Data.csv\", header=TRUE)\n",
    "\n",
    "# Present a few rows ...\n",
    "data[1:6,]"
   ]
  },
  {
   "cell_type": "code",
   "execution_count": 13,
   "metadata": {},
   "outputs": [
    {
     "data": {
      "text/html": [
       "<table>\n",
       "<thead><tr><th scope=col>observations</th><th scope=col>variables</th></tr></thead>\n",
       "<tbody>\n",
       "\t<tr><td>4305</td><td>8   </td></tr>\n",
       "</tbody>\n",
       "</table>\n"
      ],
      "text/latex": [
       "\\begin{tabular}{r|ll}\n",
       " observations & variables\\\\\n",
       "\\hline\n",
       "\t 4305 & 8   \\\\\n",
       "\\end{tabular}\n"
      ],
      "text/markdown": [
       "\n",
       "| observations | variables |\n",
       "|---|---|\n",
       "| 4305 | 8    |\n",
       "\n"
      ],
      "text/plain": [
       "  observations variables\n",
       "1 4305         8        "
      ]
     },
     "metadata": {},
     "output_type": "display_data"
    }
   ],
   "source": [
    "size(data)"
   ]
  },
  {
   "cell_type": "markdown",
   "metadata": {},
   "source": [
    "## Classification Model\n",
    "In this section, we use three generated models to determine the ones that create the highest profit.\n",
    "The first model is a naive Bayes model. By using its confusion matrix, which includes the conditional probabilities of the combinations, our predicted big_growth, and the existing big_growth can have. We are only interested in the observations with \"YES\" predicted big_growth values, as we are testing the accuracy of the prediction. By doing calculations based on the expected data, we ended up with its efficiency and profit. \n",
    "\n",
    "The next model is established by using an Out-of-Sample method, which uses part of our original data to create a model and test it using the remaining of the original data. We choose to build our model based on 75% of our initial data, using the remaining 25% to evaluate the performance of the model. Using the same calculation techniques and from our first estimation, we calculate its accuracy and profit.\n",
    "\n",
    "Our last model, us created by using the fold method, which divides or folds our data by sections, in our case 5 parts, and compares each section or fold by the remaining from the original data. This is similar to the second method. And like all our calculations, we determine the accuracy and profit of each fold.\n",
    "\n",
    "The calculation method used to find the profit uses the growth values of the first 12 \"YES\" predictions, multiplying by one allocation, determining the growth in dollars for each of the 12 stocks and adding them, to come up with the overall profit."
   ]
  },
  {
   "cell_type": "markdown",
   "metadata": {},
   "source": [
    "### Build Model"
   ]
  },
  {
   "cell_type": "code",
   "execution_count": 14,
   "metadata": {},
   "outputs": [
    {
     "data": {
      "text/plain": [
       "\n",
       "Naive Bayes Classifier for Discrete Predictors\n",
       "\n",
       "Call:\n",
       "naiveBayes.default(x = X, y = Y, laplace = laplace)\n",
       "\n",
       "A-priori probabilities:\n",
       "Y\n",
       "        NO        YES \n",
       "0.91637631 0.08362369 \n",
       "\n",
       "Conditional probabilities:\n",
       "     PC1\n",
       "Y           [,1]      [,2]\n",
       "  NO  -0.2239142 13.299922\n",
       "  YES  2.4537263  4.550796\n",
       "\n",
       "     PC2\n",
       "Y           [,1]     [,2]\n",
       "  NO   0.0424303 7.676443\n",
       "  YES -0.4649654 1.453473\n"
      ]
     },
     "metadata": {},
     "output_type": "display_data"
    }
   ],
   "source": [
    "# Constructing a naive Bayes model to predict big_growth given PC1 and PC2 (use laplace=TRUE).\n",
    "model = naiveBayes(big_growth ~ PC1+PC2, data )\n",
    "model"
   ]
  },
  {
   "cell_type": "markdown",
   "metadata": {},
   "source": [
    "### In-Sample Estimated Performance"
   ]
  },
  {
   "cell_type": "markdown",
   "metadata": {},
   "source": []
  },
  {
   "cell_type": "code",
   "execution_count": 15,
   "metadata": {},
   "outputs": [
    {
     "data": {
      "text/html": [
       "<table>\n",
       "<thead><tr><th scope=col>accuracy</th><th scope=col>profit</th><th scope=col>profit_rate</th></tr></thead>\n",
       "<tbody>\n",
       "\t<tr><td>0.3082462 </td><td>-80393.21 </td><td>-0.0803932</td></tr>\n",
       "</tbody>\n",
       "</table>\n"
      ],
      "text/latex": [
       "\\begin{tabular}{r|lll}\n",
       " accuracy & profit & profit\\_rate\\\\\n",
       "\\hline\n",
       "\t 0.3082462  & -80393.21  & -0.0803932\\\\\n",
       "\\end{tabular}\n"
      ],
      "text/markdown": [
       "\n",
       "| accuracy | profit | profit_rate |\n",
       "|---|---|---|\n",
       "| 0.3082462  | -80393.21  | -0.0803932 |\n",
       "\n"
      ],
      "text/plain": [
       "  accuracy  profit    profit_rate\n",
       "1 0.3082462 -80393.21 -0.0803932 "
      ]
     },
     "metadata": {},
     "output_type": "display_data"
    },
    {
     "data": {
      "text/html": [
       "<table>\n",
       "<thead><tr><th scope=col>gvkey</th><th scope=col>tic</th><th scope=col>conm</th><th scope=col>PC1</th><th scope=col>PC2</th><th scope=col>prccq</th><th scope=col>growth</th><th scope=col>big_growth</th><th scope=col>pred</th></tr></thead>\n",
       "<tbody>\n",
       "\t<tr><td>1004                        </td><td>AIR                         </td><td>AAR CORP                    </td><td>3.437123                    </td><td>-0.2260719                  </td><td>43.69                       </td><td> 0.050745551                </td><td>NO                          </td><td>YES                         </td></tr>\n",
       "\t<tr><td>1050                        </td><td>CECE                        </td><td>CECO ENVIRONMENTAL CORP     </td><td>3.953223                    </td><td>-0.7553386                  </td><td> 6.75                       </td><td> 0.315789474                </td><td>YES                         </td><td>YES                         </td></tr>\n",
       "\t<tr><td>1062                        </td><td>ASA                         </td><td>ASA GOLD AND PRECIOUS METALS</td><td>3.656143                    </td><td>-0.7981915                  </td><td> 8.66                       </td><td>-0.216473952                </td><td>NO                          </td><td>YES                         </td></tr>\n",
       "\t<tr><td>1072                        </td><td>AVX                         </td><td>AVX CORP                    </td><td>2.928223                    </td><td>-0.7104200                  </td><td>15.25                       </td><td>-0.118497110                </td><td>NO                          </td><td>YES                         </td></tr>\n",
       "\t<tr><td>1076                        </td><td>AAN                         </td><td>AARON'S INC                 </td><td>2.253755                    </td><td> 0.1343366                  </td><td>42.05                       </td><td> 0.055207026                </td><td>NO                          </td><td>YES                         </td></tr>\n",
       "\t<tr><td>1094                        </td><td>ACETQ                       </td><td>ACETO CORP                  </td><td>3.769009                    </td><td>-0.4208701                  </td><td> 0.84                       </td><td>-0.918683446                </td><td>NO                          </td><td>YES                         </td></tr>\n",
       "\t<tr><td>1097                        </td><td>ACMTA                       </td><td>ACMAT CORP  -CL A           </td><td>4.091633                    </td><td>-0.3227982                  </td><td>29.00                       </td><td> 0.444942701                </td><td>YES                         </td><td>YES                         </td></tr>\n",
       "\t<tr><td>1104                        </td><td>ACU                         </td><td>ACME UNITED CORP            </td><td>4.046675                    </td><td>-0.1964383                  </td><td>14.25                       </td><td>-0.391025641                </td><td>NO                          </td><td>YES                         </td></tr>\n",
       "\t<tr><td>1117                        </td><td>BKTI                        </td><td>BK TECHNOLOGIES CORP        </td><td>4.064954                    </td><td>-0.8300392                  </td><td> 3.75                       </td><td> 0.056338028                </td><td>NO                          </td><td>YES                         </td></tr>\n",
       "\t<tr><td>1121                                         </td><td><span style=white-space:pre-wrap>AE   </span></td><td>ADAMS RESOURCES &amp; ENERGY INC             </td><td>3.975560                                     </td><td>-0.5404158                                   </td><td>38.71                                        </td><td>-0.110114943                                 </td><td>NO                                           </td><td>YES                                          </td></tr>\n",
       "\t<tr><td>1186                        </td><td>AEM                         </td><td>AGNICO EAGLE MINES LTD      </td><td>1.204014                    </td><td>-0.3644131                  </td><td>40.40                       </td><td>-0.125162408                </td><td>NO                          </td><td>YES                         </td></tr>\n",
       "\t<tr><td>1210                        </td><td>AIRT                        </td><td>AIR T INC                   </td><td>4.036997                    </td><td>-0.2690535                  </td><td>24.50                       </td><td>-0.007783835                </td><td>NO                          </td><td>YES                         </td></tr>\n",
       "</tbody>\n",
       "</table>\n"
      ],
      "text/latex": [
       "\\begin{tabular}{r|lllllllll}\n",
       " gvkey & tic & conm & PC1 & PC2 & prccq & growth & big\\_growth & pred\\\\\n",
       "\\hline\n",
       "\t 1004                         & AIR                          & AAR CORP                     & 3.437123                     & -0.2260719                   & 43.69                        &  0.050745551                 & NO                           & YES                         \\\\\n",
       "\t 1050                         & CECE                         & CECO ENVIRONMENTAL CORP      & 3.953223                     & -0.7553386                   &  6.75                        &  0.315789474                 & YES                          & YES                         \\\\\n",
       "\t 1062                         & ASA                          & ASA GOLD AND PRECIOUS METALS & 3.656143                     & -0.7981915                   &  8.66                        & -0.216473952                 & NO                           & YES                         \\\\\n",
       "\t 1072                         & AVX                          & AVX CORP                     & 2.928223                     & -0.7104200                   & 15.25                        & -0.118497110                 & NO                           & YES                         \\\\\n",
       "\t 1076                         & AAN                          & AARON'S INC                  & 2.253755                     &  0.1343366                   & 42.05                        &  0.055207026                 & NO                           & YES                         \\\\\n",
       "\t 1094                         & ACETQ                        & ACETO CORP                   & 3.769009                     & -0.4208701                   &  0.84                        & -0.918683446                 & NO                           & YES                         \\\\\n",
       "\t 1097                         & ACMTA                        & ACMAT CORP  -CL A            & 4.091633                     & -0.3227982                   & 29.00                        &  0.444942701                 & YES                          & YES                         \\\\\n",
       "\t 1104                         & ACU                          & ACME UNITED CORP             & 4.046675                     & -0.1964383                   & 14.25                        & -0.391025641                 & NO                           & YES                         \\\\\n",
       "\t 1117                         & BKTI                         & BK TECHNOLOGIES CORP         & 4.064954                     & -0.8300392                   &  3.75                        &  0.056338028                 & NO                           & YES                         \\\\\n",
       "\t 1121                           & AE                             & ADAMS RESOURCES \\& ENERGY INC & 3.975560                       & -0.5404158                     & 38.71                          & -0.110114943                   & NO                             & YES                           \\\\\n",
       "\t 1186                         & AEM                          & AGNICO EAGLE MINES LTD       & 1.204014                     & -0.3644131                   & 40.40                        & -0.125162408                 & NO                           & YES                         \\\\\n",
       "\t 1210                         & AIRT                         & AIR T INC                    & 4.036997                     & -0.2690535                   & 24.50                        & -0.007783835                 & NO                           & YES                         \\\\\n",
       "\\end{tabular}\n"
      ],
      "text/markdown": [
       "\n",
       "| gvkey | tic | conm | PC1 | PC2 | prccq | growth | big_growth | pred |\n",
       "|---|---|---|---|---|---|---|---|---|\n",
       "| 1004                         | AIR                          | AAR CORP                     | 3.437123                     | -0.2260719                   | 43.69                        |  0.050745551                 | NO                           | YES                          |\n",
       "| 1050                         | CECE                         | CECO ENVIRONMENTAL CORP      | 3.953223                     | -0.7553386                   |  6.75                        |  0.315789474                 | YES                          | YES                          |\n",
       "| 1062                         | ASA                          | ASA GOLD AND PRECIOUS METALS | 3.656143                     | -0.7981915                   |  8.66                        | -0.216473952                 | NO                           | YES                          |\n",
       "| 1072                         | AVX                          | AVX CORP                     | 2.928223                     | -0.7104200                   | 15.25                        | -0.118497110                 | NO                           | YES                          |\n",
       "| 1076                         | AAN                          | AARON'S INC                  | 2.253755                     |  0.1343366                   | 42.05                        |  0.055207026                 | NO                           | YES                          |\n",
       "| 1094                         | ACETQ                        | ACETO CORP                   | 3.769009                     | -0.4208701                   |  0.84                        | -0.918683446                 | NO                           | YES                          |\n",
       "| 1097                         | ACMTA                        | ACMAT CORP  -CL A            | 4.091633                     | -0.3227982                   | 29.00                        |  0.444942701                 | YES                          | YES                          |\n",
       "| 1104                         | ACU                          | ACME UNITED CORP             | 4.046675                     | -0.1964383                   | 14.25                        | -0.391025641                 | NO                           | YES                          |\n",
       "| 1117                         | BKTI                         | BK TECHNOLOGIES CORP         | 4.064954                     | -0.8300392                   |  3.75                        |  0.056338028                 | NO                           | YES                          |\n",
       "| 1121                         | AE                           | ADAMS RESOURCES & ENERGY INC | 3.975560                     | -0.5404158                   | 38.71                        | -0.110114943                 | NO                           | YES                          |\n",
       "| 1186                         | AEM                          | AGNICO EAGLE MINES LTD       | 1.204014                     | -0.3644131                   | 40.40                        | -0.125162408                 | NO                           | YES                          |\n",
       "| 1210                         | AIRT                         | AIR T INC                    | 4.036997                     | -0.2690535                   | 24.50                        | -0.007783835                 | NO                           | YES                          |\n",
       "\n"
      ],
      "text/plain": [
       "   gvkey tic   conm                         PC1      PC2        prccq\n",
       "1  1004  AIR   AAR CORP                     3.437123 -0.2260719 43.69\n",
       "2  1050  CECE  CECO ENVIRONMENTAL CORP      3.953223 -0.7553386  6.75\n",
       "3  1062  ASA   ASA GOLD AND PRECIOUS METALS 3.656143 -0.7981915  8.66\n",
       "4  1072  AVX   AVX CORP                     2.928223 -0.7104200 15.25\n",
       "5  1076  AAN   AARON'S INC                  2.253755  0.1343366 42.05\n",
       "6  1094  ACETQ ACETO CORP                   3.769009 -0.4208701  0.84\n",
       "7  1097  ACMTA ACMAT CORP  -CL A            4.091633 -0.3227982 29.00\n",
       "8  1104  ACU   ACME UNITED CORP             4.046675 -0.1964383 14.25\n",
       "9  1117  BKTI  BK TECHNOLOGIES CORP         4.064954 -0.8300392  3.75\n",
       "10 1121  AE    ADAMS RESOURCES & ENERGY INC 3.975560 -0.5404158 38.71\n",
       "11 1186  AEM   AGNICO EAGLE MINES LTD       1.204014 -0.3644131 40.40\n",
       "12 1210  AIRT  AIR T INC                    4.036997 -0.2690535 24.50\n",
       "   growth       big_growth pred\n",
       "1   0.050745551 NO         YES \n",
       "2   0.315789474 YES        YES \n",
       "3  -0.216473952 NO         YES \n",
       "4  -0.118497110 NO         YES \n",
       "5   0.055207026 NO         YES \n",
       "6  -0.918683446 NO         YES \n",
       "7   0.444942701 YES        YES \n",
       "8  -0.391025641 NO         YES \n",
       "9   0.056338028 NO         YES \n",
       "10 -0.110114943 NO         YES \n",
       "11 -0.125162408 NO         YES \n",
       "12 -0.007783835 NO         YES "
      ]
     },
     "metadata": {},
     "output_type": "display_data"
    }
   ],
   "source": [
    "# Presenting the model's in-sample estimated accuracy, profit, and profit rate at cutoff=0.5.\n",
    "prob = predict(model, data, type=\"raw\")\n",
    "class.predicted = as.class(prob, class=\"NO\", cutoff=0.5)\n",
    "dataa=data\n",
    "dataa$pred=class.predicted\n",
    "CM = confusionMatrix(class.predicted, data$big_growth)$table\n",
    "cm = CM / sum(CM)\n",
    "accuracy = (cm[1,1]+cm[2,2])/sum(cm)\n",
    "\n",
    "dd=filter(dataa, ( pred==\"YES\"))[1:12,]\n",
    "profit=sum(dd$growth)*allocation[1]\n",
    "profit_rate=round(profit/budget, digits=7)\n",
    "data.frame(accuracy, profit, profit_rate)\n",
    "dd"
   ]
  },
  {
   "cell_type": "markdown",
   "metadata": {},
   "source": [
    "### Out-of-Sample Estimated Performance"
   ]
  },
  {
   "cell_type": "code",
   "execution_count": 16,
   "metadata": {
    "scrolled": true
   },
   "outputs": [
    {
     "data": {
      "text/html": [
       "<table><tr><td style=\"background-color:white; vertical-align:top; padding-right:40px;\"><table>\n",
       "<caption><center><font color=\"black\"><b>size(data.train)</b></font></center></caption>\n",
       " <thead>\n",
       "  <tr>\n",
       "   <th style=\"text-align:right;background-color: #FFFFFF !important;\"> observations </th>\n",
       "   <th style=\"text-align:right;background-color: #FFFFFF !important;\"> variables </th>\n",
       "  </tr>\n",
       " </thead>\n",
       "<tbody>\n",
       "  <tr>\n",
       "   <td style=\"text-align:right;\"> 3228 </td>\n",
       "   <td style=\"text-align:right;\"> 8 </td>\n",
       "  </tr>\n",
       "</tbody>\n",
       "</table></td><td style=\"background-color:white; vertical-align:top;\"><table>\n",
       "<caption><center><font color=\"black\"><b>size(data.dev)</b></font></center></caption>\n",
       " <thead>\n",
       "  <tr>\n",
       "   <th style=\"text-align:right;background-color: #FFFFFF !important;\"> observations </th>\n",
       "   <th style=\"text-align:right;background-color: #FFFFFF !important;\"> variables </th>\n",
       "  </tr>\n",
       " </thead>\n",
       "<tbody>\n",
       "  <tr>\n",
       "   <td style=\"text-align:right;\"> 1077 </td>\n",
       "   <td style=\"text-align:right;\"> 8 </td>\n",
       "  </tr>\n",
       "</tbody>\n",
       "</table></td></tr></table>"
      ]
     },
     "metadata": {},
     "output_type": "display_data"
    }
   ],
   "source": [
    "# Partitioning the data into training (75%) and validation (25%)\n",
    "set.seed(0)\n",
    "holdout = sample(1:nrow(data), 0.75*nrow(data))\n",
    "holdin = setdiff(1:nrow(data), holdout)\n",
    "data.train = data[holdout,]\n",
    "data.dev  = data[holdin,]\n",
    "\n",
    "layout(fmt(size(data.train)), fmt(size(data.dev)))"
   ]
  },
  {
   "cell_type": "code",
   "execution_count": 17,
   "metadata": {},
   "outputs": [
    {
     "data": {
      "text/html": [
       "<table>\n",
       "<caption><center><font color=\"black\"><b>Out-of-Sample Estimated Performance</b></font></center></caption>\n",
       " <thead>\n",
       "  <tr>\n",
       "   <th style=\"text-align:right;background-color: #FFFFFF !important;\"> acuracy </th>\n",
       "   <th style=\"text-align:right;background-color: #FFFFFF !important;\"> profit </th>\n",
       "   <th style=\"text-align:right;background-color: #FFFFFF !important;\"> profit_rate </th>\n",
       "  </tr>\n",
       " </thead>\n",
       "<tbody>\n",
       "  <tr>\n",
       "   <td style=\"text-align:right;\"> 0.2989786 </td>\n",
       "   <td style=\"text-align:right;\"> -120201.9 </td>\n",
       "   <td style=\"text-align:right;\"> -0.1202019 </td>\n",
       "  </tr>\n",
       "</tbody>\n",
       "</table>"
      ]
     },
     "metadata": {},
     "output_type": "display_data"
    }
   ],
   "source": [
    "# The model's out-of-sample estimated accuracy, profit, and profit rate at cutoff=0.5.\n",
    "model.1 = naiveBayes(big_growth ~ PC1+PC2, data.train)\n",
    "prob = predict(model.1, data.dev, type=\"raw\")\n",
    "class.predicted = as.class(prob, class=\"YES\", cutoff=0.5)\n",
    "data.dev$pred=class.predicted\n",
    "CM.1 = confusionMatrix(class.predicted, data.dev$big_growth)$table\n",
    "cm.1 = CM.1 / sum(CM.1)\n",
    "accuracy.1 = (cm.1[1,1]+cm.1[2,2])/sum(cm.1)\n",
    "dd.a=filter(data.dev, ( pred==\"YES\"))[1:12,]\n",
    "profit.a=sum(dd.a$growth)*allocation[1]\n",
    "profit.dev=profit.a\n",
    "profit_rate.dev=round(profit.dev/budget, digits=7)\n",
    "fmt(data.frame(acuracy=accuracy.1, profit= profit.dev, profit_rate=profit_rate.dev),\"Out-of-Sample Estimated Performance\")"
   ]
  },
  {
   "cell_type": "markdown",
   "metadata": {},
   "source": [
    "### 5-Fold Cross-Validation Estimated Performance"
   ]
  },
  {
   "cell_type": "code",
   "execution_count": 18,
   "metadata": {},
   "outputs": [
    {
     "name": "stdout",
     "output_type": "stream",
     "text": [
      "List of 5\n",
      " $ Fold1: int [1:861] 9 13 17 19 31 42 44 54 60 66 ...\n",
      " $ Fold2: int [1:861] 1 2 6 11 16 25 32 49 55 59 ...\n",
      " $ Fold3: int [1:861] 4 8 14 22 28 34 40 45 50 52 ...\n",
      " $ Fold4: int [1:861] 3 5 15 18 21 24 26 27 30 36 ...\n",
      " $ Fold5: int [1:861] 7 10 12 20 23 29 33 35 37 46 ...\n"
     ]
    }
   ],
   "source": [
    "# Partitioning the data into 5 folds (use set.seed(0) and createFolds(...)).\n",
    "set.seed(0)\n",
    "fold = createFolds(data$big_growth, k=5)\n",
    "str(fold)"
   ]
  },
  {
   "cell_type": "code",
   "execution_count": 19,
   "metadata": {},
   "outputs": [],
   "source": [
    "data_1.train = data[setdiff(1:nrow(data), fold$Fold1),]\n",
    "data_1.test  = data[fold$Fold1,]\n",
    "model.1 = naiveBayes(big_growth ~PC1+PC2, data_1.train)\n",
    "prob.1 = predict(model.1, data_1.test, type=\"raw\")\n",
    "class.predicted.1 = as.class(prob.1, class=\"YES\", cutoff=0.5)\n",
    "CM.1 = confusionMatrix(class.predicted.1, data_1.test$big_growth)$table\n",
    "cm.1 = CM.1 / sum(CM.1)\n",
    "accuracy.1 = (cm.1[1,1]+cm.1[2,2])/sum(cm.1)\n",
    "data_1.test$pred=class.predicted.1\n",
    "dd.1=filter(data_1.test, ( pred==\"YES\"))[1:12,]\n",
    "profit.1=sum(dd.1$growth)*allocation[1]\n",
    "profit_rate.1=profit.1/budget"
   ]
  },
  {
   "cell_type": "code",
   "execution_count": 20,
   "metadata": {},
   "outputs": [],
   "source": [
    "data_2.train = data[setdiff(1:nrow(data), fold$Fold2),]\n",
    "data_2.test  = data[fold$Fold2,]\n",
    "model.2 = naiveBayes(big_growth ~ PC1+PC2, data_2.train)\n",
    "prob.2 = predict(model.2, data_2.test, type=\"raw\")\n",
    "class.predicted.2 = as.class(prob.2, class=\"NO\", cutoff=0.5)\n",
    "\n",
    "CM.2 = confusionMatrix(class.predicted.2, data_2.test$big_growth)$table\n",
    "cm.2 = CM.2 / sum(CM.2)\n",
    "accuracy.2 = (cm.2[1,1]+cm.2[2,2])/sum(cm.2)\n",
    "data_2.test$pred=class.predicted.2\n",
    "dd.2=filter(data_2.test, ( pred==\"NO\"))[1:12,]\n",
    "profit.2=sum(dd.2$growth)*allocation[1]\n",
    "profit_rate.2=profit.2/budget"
   ]
  },
  {
   "cell_type": "code",
   "execution_count": 21,
   "metadata": {},
   "outputs": [],
   "source": [
    "data_3.train = data[setdiff(1:nrow(data), fold$Fold3),]\n",
    "data_3.test  = data[fold$Fold3,]\n",
    "model.3 = naiveBayes(big_growth ~ PC1+PC2, data_3.train)\n",
    "prob.3 = predict(model.3, data_3.test, type=\"raw\")\n",
    "class.predicted.3 = as.class(prob.3, class=\"YES\", cutoff=0.5)\n",
    "\n",
    "CM.3 = confusionMatrix(class.predicted.3, data_3.test$big_growth)$table\n",
    "cm.3 = CM.3 / sum(CM.3)\n",
    "accuracy.3 = (cm.3[1,1]+cm.3[2,2])/sum(cm.3)\n",
    "\n",
    "data_3.test$pred=class.predicted.3\n",
    "dd.3=filter(data_3.test, ( pred==\"YES\"))[1:12,]\n",
    "profit.3=sum(dd.3$growth)*allocation[1]\n",
    "profit_rate.3=profit.3/budget"
   ]
  },
  {
   "cell_type": "code",
   "execution_count": 22,
   "metadata": {},
   "outputs": [],
   "source": [
    "data_4.train = data[setdiff(1:nrow(data), fold$Fold4),]\n",
    "data_4.test  = data[fold$Fold4,]\n",
    "model.4 = naiveBayes(big_growth ~ PC1+PC2, data_4.train)\n",
    "prob.4 = predict(model.4, data_4.test, type=\"raw\")\n",
    "class.predicted.4 = as.class(prob.4, class=\"YES\", cutoff=0.5)\n",
    "\n",
    "CM.4 = confusionMatrix(class.predicted.4, data_4.test$big_growth)$table\n",
    "cm.4 = CM.4 / sum(CM.4)\n",
    "accuracy.4 = (cm.4[1,1]+cm.4[2,2])/sum(cm.4)\n",
    "\n",
    "data_4.test$pred=class.predicted.4\n",
    "dd.4=filter(data_4.test, ( pred==\"YES\"))[1:12,]\n",
    "profit.4=sum(dd.4$growth)*allocation[1]\n",
    "profit_rate.4=profit.4/budget"
   ]
  },
  {
   "cell_type": "code",
   "execution_count": 23,
   "metadata": {},
   "outputs": [],
   "source": [
    "data_5.train = data[setdiff(1:nrow(data), fold$Fold5),]\n",
    "data_5.test  = data[fold$Fold5,]\n",
    "model.5 = naiveBayes(big_growth ~ PC1+PC2, data_5.train)\n",
    "prob.5 = predict(model.5, data_5.test, type=\"raw\")\n",
    "class.predicted.5 = as.class(prob.5, class=\"YES\", cutoff=0.5)\n",
    "\n",
    "CM.5 = confusionMatrix(class.predicted.5, data_5.test$big_growth)$table\n",
    "cm.5 = CM.5 / sum(CM.5)\n",
    "accuracy.5 = (cm.5[1,1]+cm.5[2,2])/sum(cm.5)\n",
    "data_5.test$pred=class.predicted.5\n",
    "dd.5=filter(data_5.test, ( pred==\"YES\"))[1:12,]\n",
    "profit.5=sum(dd.5$growth)*allocation[1]\n",
    "profit_rate.5=profit.5/budget"
   ]
  },
  {
   "cell_type": "code",
   "execution_count": 24,
   "metadata": {},
   "outputs": [
    {
     "data": {
      "text/html": [
       "<table>\n",
       "<thead><tr><th scope=col>fold</th><th scope=col>accuracy</th><th scope=col>profit</th></tr></thead>\n",
       "<tbody>\n",
       "\t<tr><td>1         </td><td>0.3042973 </td><td>-221281.10</td></tr>\n",
       "\t<tr><td>2         </td><td>0.9163763 </td><td> -90115.24</td></tr>\n",
       "\t<tr><td>3         </td><td>0.2659698 </td><td> -28710.93</td></tr>\n",
       "\t<tr><td>4         </td><td>0.2950058 </td><td> -89837.99</td></tr>\n",
       "\t<tr><td>5         </td><td>0.3066202 </td><td>  31939.77</td></tr>\n",
       "</tbody>\n",
       "</table>\n"
      ],
      "text/latex": [
       "\\begin{tabular}{r|lll}\n",
       " fold & accuracy & profit\\\\\n",
       "\\hline\n",
       "\t 1          & 0.3042973  & -221281.10\\\\\n",
       "\t 2          & 0.9163763  &  -90115.24\\\\\n",
       "\t 3          & 0.2659698  &  -28710.93\\\\\n",
       "\t 4          & 0.2950058  &  -89837.99\\\\\n",
       "\t 5          & 0.3066202  &   31939.77\\\\\n",
       "\\end{tabular}\n"
      ],
      "text/markdown": [
       "\n",
       "| fold | accuracy | profit |\n",
       "|---|---|---|\n",
       "| 1          | 0.3042973  | -221281.10 |\n",
       "| 2          | 0.9163763  |  -90115.24 |\n",
       "| 3          | 0.2659698  |  -28710.93 |\n",
       "| 4          | 0.2950058  |  -89837.99 |\n",
       "| 5          | 0.3066202  |   31939.77 |\n",
       "\n"
      ],
      "text/plain": [
       "  fold accuracy  profit    \n",
       "1 1    0.3042973 -221281.10\n",
       "2 2    0.9163763  -90115.24\n",
       "3 3    0.2659698  -28710.93\n",
       "4 4    0.2950058  -89837.99\n",
       "5 5    0.3066202   31939.77"
      ]
     },
     "metadata": {},
     "output_type": "display_data"
    }
   ],
   "source": [
    "# Presenting the model's estimated accuracy and profit at cutoff=0.5 for each fold.\n",
    "d=data.frame(fold=c(1,2,3,4,5),accuracy=c(accuracy.1,accuracy.2,accuracy.3,accuracy.4,accuracy.5), profit=c(profit.1,profit.2,profit.3,profit.4,profit.5))\n",
    "d"
   ]
  },
  {
   "cell_type": "code",
   "execution_count": 25,
   "metadata": {},
   "outputs": [
    {
     "data": {
      "text/html": [
       "<table>\n",
       "<caption><center><font color=\"black\"><b>5-Fold Cross-Validation Estimated Performance</b></font></center></caption>\n",
       " <thead>\n",
       "  <tr>\n",
       "   <th style=\"text-align:right;background-color: #FFFFFF !important;\"> accuracy.cv </th>\n",
       "   <th style=\"text-align:right;background-color: #FFFFFF !important;\"> profit.cv </th>\n",
       "   <th style=\"text-align:right;background-color: #FFFFFF !important;\"> profit_rate.cv </th>\n",
       "  </tr>\n",
       " </thead>\n",
       "<tbody>\n",
       "  <tr>\n",
       "   <td style=\"text-align:right;\"> 0.4176539 </td>\n",
       "   <td style=\"text-align:right;\"> -79601.1 </td>\n",
       "   <td style=\"text-align:right;\"> -0.0796011 </td>\n",
       "  </tr>\n",
       "</tbody>\n",
       "</table>"
      ]
     },
     "metadata": {},
     "output_type": "display_data"
    }
   ],
   "source": [
    "# Presenting the model's 5-fold cross-validation estimated accuracy, profit, and profit rate at cutoff=0.5\n",
    "accuracy.cv=mean(d$accuracy)\n",
    "profit.cv=mean(c(profit.1, profit.2, profit.3, profit.4, profit.5))\n",
    "profit_rate.cv=mean(c(profit_rate.1,profit_rate.2,profit_rate.3,profit_rate.4,profit_rate.5))\n",
    "fmt(data.frame(accuracy.cv,profit.cv,profit_rate.cv), \"5-Fold Cross-Validation Estimated Performance\")"
   ]
  },
  {
   "cell_type": "markdown",
   "metadata": {},
   "source": [
    "<font size=1;>\n",
    "<p style=\"text-align: left;\">\n",
    "Copyright (c) Berkeley Data Analytics Group, LLC\n",
    "<span style=\"float: right;\">\n",
    "Document revised June 9, 2020\n",
    "</span>\n",
    "</p>\n",
    "</font>"
   ]
  }
 ],
 "metadata": {
  "hide_code_all_hidden": false,
  "hide_input": false,
  "kernelspec": {
   "display_name": "R",
   "language": "R",
   "name": "ir"
  },
  "language_info": {
   "codemirror_mode": "r",
   "file_extension": ".r",
   "mimetype": "text/x-r-source",
   "name": "R",
   "pygments_lexer": "r",
   "version": "3.6.3"
  },
  "toc": {
   "base_numbering": 1,
   "nav_menu": {},
   "number_sections": true,
   "sideBar": true,
   "skip_h1_title": true,
   "title_cell": "Table of Contents",
   "title_sidebar": "Contents",
   "toc_cell": false,
   "toc_position": {
    "height": "calc(100% - 180px)",
    "left": "10px",
    "top": "150px",
    "width": "165px"
   },
   "toc_section_display": true,
   "toc_window_display": true
  }
 },
 "nbformat": 4,
 "nbformat_minor": 2
}
